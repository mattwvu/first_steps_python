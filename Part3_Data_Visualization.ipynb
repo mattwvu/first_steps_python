{
 "cells": [
  {
   "cell_type": "markdown",
   "id": "bd403cf7-bb53-41cf-95e5-91dd12bcb262",
   "metadata": {},
   "source": [
    "<h1>Visualize your Data</h1>"
   ]
  },
  {
   "cell_type": "markdown",
   "id": "2dedece4-3b05-4a47-982c-30ded170ff42",
   "metadata": {},
   "source": [
    "<h3>Data Visualization Libraries</h3>\n",
    "<p>\n",
    "    <ul>\n",
    "        <li><a href=\"https://matplotlib.org/\" target =\"_blank\">MatPLotLib</a> - General-purpose plotting</li>\n",
    "        <li><a href=\"https://seaborn.pydata.org/\" target =\"_blank\">Seaborn</a> - Statistical graphics and beautiful themes</li>\n",
    "        <li><a href = \"https://plotly.com/python/\" target =\"_blank\">Plotly</a> - Interactive and web-based plots</li>\n",
    "        <li><a href=\"https://geopandas.org/en/stable/index.html\" target =\"_blank\">Geopandas</a> - Geospatial data visualization</li>\n",
    "    </ul>\n",
    "</p>"
   ]
  },
  {
   "cell_type": "code",
   "execution_count": null,
   "id": "8d6e93c9-53ef-4201-8259-d2d066d9d08a",
   "metadata": {},
   "outputs": [],
   "source": [
    "#load pandas\n",
    "\n",
    "import pandas as pd"
   ]
  },
  {
   "cell_type": "markdown",
   "id": "ff70ba15-e112-4c55-8436-358aa8dacc10",
   "metadata": {},
   "source": [
    "<h3>MatPlotLib</h3>"
   ]
  },
  {
   "cell_type": "code",
   "execution_count": null,
   "id": "efe0cd22-1960-44fa-9869-b1e5fee25f8e",
   "metadata": {},
   "outputs": [],
   "source": [
    "# import the library\n",
    "\n",
    "import matplotlib.pyplot as plt\n",
    "\n",
    "# load dataframe\n",
    "\n",
    "scotus = pd.read_csv(\"scotus.csv\")\n",
    "\n",
    "# set datatime\n",
    "\n",
    "scotus[\"date\"] = pd.to_datetime(scotus[\"date\"])\n",
    "scotus\n",
    "\n"
   ]
  },
  {
   "cell_type": "code",
   "execution_count": null,
   "id": "dd233022-f838-4fed-8cdd-0a022c519747",
   "metadata": {},
   "outputs": [],
   "source": [
    "# filter pollster to YouGov\n",
    "\n",
    "scotus = scotus[scotus[\"pollster\"] == \"YouGov\"]\n",
    "scotus"
   ]
  },
  {
   "cell_type": "code",
   "execution_count": null,
   "id": "082c1159-3155-408b-829e-24eecbbeb50b",
   "metadata": {},
   "outputs": [],
   "source": [
    "# create a line graph of scotus approval rating\n",
    "\n",
    "#use plot to call the line plot shape\n",
    "\n",
    "scotus.plot()"
   ]
  },
  {
   "cell_type": "code",
   "execution_count": null,
   "id": "0432884b-c411-42ac-ae20-a66f3c329907",
   "metadata": {},
   "outputs": [],
   "source": [
    "# set date and yes appoval \n",
    "\n",
    "scotus.plot(x=\"date\", y=\"yes\")\n",
    "\n",
    "\n",
    "# Show the plot\n",
    "plt.show()"
   ]
  },
  {
   "cell_type": "code",
   "execution_count": null,
   "id": "4918fa38-fd66-4aba-8d34-3169bf56d907",
   "metadata": {},
   "outputs": [],
   "source": [
    "# stylize the graph\n",
    "\n",
    "scotus.plot(x=\"date\", y=\"yes\", \n",
    "            color = \"red\",\n",
    "            linewidth=.75,\n",
    "             )"
   ]
  },
  {
   "cell_type": "code",
   "execution_count": null,
   "id": "79776056-09bd-4d38-91c5-6e8db20c56bd",
   "metadata": {},
   "outputs": [],
   "source": [
    "# add title and removove y label and legend label\n",
    "\n",
    "scotus.plot(x=\"date\", y=\"yes\",\n",
    "                   color = \"red\", \n",
    "                   linewidth=.75,\n",
    "            xlabel=\"date\", \n",
    "            ylabel=\"\", \n",
    "            title=\"Scotus Approval 2024\",\n",
    "            legend = ''\n",
    "                  )\n",
    "\n"
   ]
  },
  {
   "cell_type": "markdown",
   "id": "6deee0c9-c690-44ba-bc4e-ae580c66e5e3",
   "metadata": {},
   "source": [
    "<h3>Adjust Font Size</h3>"
   ]
  },
  {
   "cell_type": "code",
   "execution_count": null,
   "id": "36975056-e06b-4266-9be4-cb6527973ca8",
   "metadata": {},
   "outputs": [],
   "source": [
    "import matplotlib.pyplot as plt\n",
    "import matplotlib.dates as mdates\n",
    "\n",
    "# Sample plot command with customizations\n",
    "scotus.plot(x=\"date\", y=\"yes\",\n",
    "            color=\"red\",\n",
    "            linewidth=0.75,\n",
    "            xlabel=\"Date\", \n",
    "            ylabel=\"\", \n",
    "            title=\"Scotus Approval 2024\",\n",
    "            legend='')\n",
    "\n",
    "# Adjust font sizes\n",
    "plt.xlabel(\"Date\", fontsize=10)\n",
    "plt.title(\"Scotus Approval 2024\", fontsize=24, fontweight=\"bold\")\n",
    "\n",
    "# Show the plot\n",
    "plt.show()"
   ]
  },
  {
   "cell_type": "markdown",
   "id": "9a5f4bb6-ac77-420f-837c-28c0c7c28143",
   "metadata": {},
   "source": [
    "<h3>Adjust Date Format and Breaks</h3>\n",
    "<p><a href =\"https://www.programiz.com/python-programming/datetime/strptime\" target=\"_blank\">Date Formats</p>"
   ]
  },
  {
   "cell_type": "code",
   "execution_count": null,
   "id": "d4d62e20-4d38-481d-a27c-933b3c8bc5bd",
   "metadata": {},
   "outputs": [],
   "source": [
    "import matplotlib.pyplot as plt\n",
    "import matplotlib.dates as mdates\n",
    "\n",
    "# Sample plot command with customizations\n",
    "scotus.plot(x=\"date\", y=\"yes\",\n",
    "            color=\"red\",\n",
    "            linewidth=0.75,\n",
    "            xlabel=\"Date\", \n",
    "            ylabel=\"\", \n",
    "            title=\"Scotus Approval 2024\",\n",
    "            legend='')\n",
    "\n",
    "# Adjust font sizes\n",
    "plt.xlabel(\"Date\", fontsize=10)\n",
    "plt.title(\"Scotus Approval 2024\", fontsize=24, fontweight=\"bold\")\n",
    "\n",
    "# Customize date format on x-axis\n",
    "plt.gca().xaxis.set_major_formatter(mdates.DateFormatter('%b-%y'))  # Adjust date format as needed\n",
    "plt.gca().xaxis.set_major_locator(mdates.MonthLocator(interval=2))  # Every other month\n",
    "\n",
    "# Optional: Rotate date labels for better readability\n",
    "plt.gcf().autofmt_xdate()\n",
    "\n",
    "# Show the plot\n",
    "plt.show()"
   ]
  },
  {
   "cell_type": "markdown",
   "id": "c0bf7819-6100-4128-bd12-3572e16bf483",
   "metadata": {},
   "source": [
    "<h3>Add Addtional Variable</h3>"
   ]
  },
  {
   "cell_type": "code",
   "execution_count": null,
   "id": "0fbc0ad1-0fa1-46f0-9269-79eee8bb70d6",
   "metadata": {},
   "outputs": [],
   "source": [
    "import matplotlib.pyplot as plt\n",
    "import matplotlib.dates as mdates\n",
    "\n",
    "# Create a figure and axis\n",
    "fig, ax = plt.subplots()\n",
    "\n",
    "# Plot the 'yes' variable\n",
    "scotus.plot(x=\"date\", y=\"yes\",\n",
    "            color=\"red\",\n",
    "            linewidth=0.75,\n",
    "            ax=ax,  # Specify the axis to plot on\n",
    "            label=\"Yes\")\n",
    "\n",
    "# Plot the 'no' variable\n",
    "scotus.plot(x=\"date\", y=\"no\",\n",
    "            color=\"blue\",\n",
    "            linewidth=0.75,\n",
    "            ax=ax,  # Specify the same axis to plot on\n",
    "            label=\"No\")\n",
    "\n",
    "# Customize the labels and title\n",
    "plt.xlabel(\"Date\", fontsize=10)\n",
    "ax.set_title(\"Scotus Approval 2024\", fontsize=24, fontweight=\"bold\")\n",
    "\n",
    "# Customize date format on x-axis\n",
    "ax.xaxis.set_major_formatter(mdates.DateFormatter('%b-%y'))  # Adjust date format as needed\n",
    "ax.xaxis.set_major_locator(mdates.MonthLocator(interval=2))  # Every other month\n",
    "\n",
    "# Optional: Rotate date labels for better readability\n",
    "fig.autofmt_xdate()\n",
    "\n",
    "# Add legend\n",
    "ax.legend()\n",
    "\n",
    "# Show the plot\n",
    "plt.show()\n"
   ]
  },
  {
   "cell_type": "markdown",
   "id": "f2ccf8a7-3736-481f-8137-8c7beaf2c1d7",
   "metadata": {},
   "source": [
    "<h3>Export Plot</h3>"
   ]
  },
  {
   "cell_type": "code",
   "execution_count": null,
   "id": "baa1f64a-3696-401c-acb4-1a95afe364e9",
   "metadata": {},
   "outputs": [],
   "source": [
    "import matplotlib.pyplot as plt\n",
    "import matplotlib.dates as mdates\n",
    "\n",
    "# Create a figure and axis\n",
    "fig, ax = plt.subplots()\n",
    "\n",
    "# Plot the 'yes' variable\n",
    "scotus.plot(x=\"date\", y=\"yes\",\n",
    "            color=\"red\",\n",
    "            linewidth=0.75,\n",
    "            ax=ax,  # Specify the axis to plot on\n",
    "            label=\"Yes\")\n",
    "\n",
    "# Plot the 'no' variable\n",
    "scotus.plot(x=\"date\", y=\"no\",\n",
    "            color=\"blue\",\n",
    "            linewidth=0.75,\n",
    "            ax=ax,  # Specify the same axis to plot on\n",
    "            label=\"No\")\n",
    "\n",
    "# Customize the labels and title\n",
    "plt.xlabel(\"Date\", fontsize=10)\n",
    "ax.set_title(\"Scotus Approval 2024\", fontsize=24, fontweight=\"bold\")\n",
    "\n",
    "# Customize date format on x-axis\n",
    "ax.xaxis.set_major_formatter(mdates.DateFormatter('%b-%y'))  # Adjust date format as needed\n",
    "ax.xaxis.set_major_locator(mdates.MonthLocator(interval=2))  # Every other month\n",
    "\n",
    "# Optional: Rotate date labels for better readability\n",
    "fig.autofmt_xdate()\n",
    "\n",
    "# Add legend\n",
    "ax.legend()\n",
    "\n",
    "# Ensure all elements fit in the figure\n",
    "plt.tight_layout()\n",
    "\n",
    "# exporting\n",
    "plt.savefig(\"scotus_line.png\")  \n",
    "\n",
    "# Show the plot\n",
    "plt.show()\n"
   ]
  },
  {
   "cell_type": "markdown",
   "id": "f98ff6a3-594a-402b-b5ca-4faf0a0356bc",
   "metadata": {},
   "source": [
    "<h2>Seaborn</h2>\n",
    "<p><a href=\"https://seaborn.pydata.org/\">https://seaborn.pydata.org/</a></p>"
   ]
  },
  {
   "cell_type": "code",
   "execution_count": null,
   "id": "196ac719-154e-44ad-8500-702f6fcf6d3a",
   "metadata": {},
   "outputs": [],
   "source": [
    "# load the libraries\n",
    "\n",
    "import matplotlib.pyplot as plt\n",
    "import seaborn as sns\n"
   ]
  },
  {
   "cell_type": "code",
   "execution_count": null,
   "id": "e81de8dc-79bf-4fc7-8a9f-e4808d15e58f",
   "metadata": {},
   "outputs": [],
   "source": [
    "# load the dataframe\n",
    "\n",
    "import pandas as pd\n",
    "\n",
    "reviews = pd.read_csv(\"cleaned_reviews.csv\")\n",
    "reviews.dtypes"
   ]
  },
  {
   "cell_type": "code",
   "execution_count": null,
   "id": "4609bd97-4197-4ecf-a480-9ab88c9a536c",
   "metadata": {},
   "outputs": [],
   "source": [
    "# create the bar plot\n",
    "\n",
    "sns.countplot(data = reviews, x = \"Department_Name\")"
   ]
  },
  {
   "cell_type": "code",
   "execution_count": null,
   "id": "b3d063cc-81a2-41cc-ba25-a7c45f3f1713",
   "metadata": {},
   "outputs": [],
   "source": [
    "# create the bar plot\n",
    "\n",
    "sns.countplot(data = reviews, x = \"Department_Name\")\n",
    "\n",
    "# Add title and labels\n",
    "plt.title('Count of Department Purchases')\n",
    "plt.xlabel('Department')\n",
    "plt.ylabel('')\n",
    "\n",
    "# Show plot\n",
    "plt.show()\n"
   ]
  },
  {
   "cell_type": "code",
   "execution_count": null,
   "id": "4fafc236-c50b-45d6-b744-d792ee237a9d",
   "metadata": {},
   "outputs": [],
   "source": [
    "# Set Seaborn style\n",
    "sns.set_style(\"darkgrid\")\n",
    "\n",
    "sns.countplot(data = reviews, x = \"Department_Name\")\n",
    "\n",
    "# Add title and labels\n",
    "plt.title('Count of Department Purchases')\n",
    "plt.xlabel('Department')\n",
    "plt.ylabel('')\n",
    "\n",
    "# Show plot\n",
    "plt.show()\n"
   ]
  },
  {
   "cell_type": "markdown",
   "id": "bb842bc0-1607-4121-80d5-716a02e8e955",
   "metadata": {},
   "source": [
    "<h3>Color Brewer Palettes</h3>\n",
    "<p><a href =\"https://colorbrewer2.org/\" target=\"_blank\">https://colorbrewer2.org/</a></p>"
   ]
  },
  {
   "cell_type": "code",
   "execution_count": null,
   "id": "fabbee27-f69d-4687-8010-719db14dd1d1",
   "metadata": {},
   "outputs": [],
   "source": [
    "# Set Seaborn style\n",
    "sns.set_style(\"darkgrid\")\n",
    "\n",
    "# Define Color Brewer palette\n",
    "brewer_palette = sns.color_palette(\"YlOrRd\")\n",
    "\n",
    "# Create countplot with Color Brewer palette\n",
    "sns.countplot(data=reviews, x=\"Department_Name\", palette=brewer_palette)\n",
    "\n",
    "# Add title and labels\n",
    "plt.title('Count of Department Purchases')\n",
    "plt.xlabel('Department')\n",
    "plt.ylabel('')\n",
    "\n",
    "# Show plot\n",
    "plt.show()\n"
   ]
  },
  {
   "cell_type": "markdown",
   "id": "a3abdcf2-a89a-4dd8-82df-e7906a4a0cb2",
   "metadata": {},
   "source": [
    "<h2>Plotly</h2>\n",
    "<p><a href = \"https://plotly.com/python/\" target =\"_blank\">https://plotly.com/python/</a></p>"
   ]
  },
  {
   "cell_type": "code",
   "execution_count": null,
   "id": "48ed50ea-b2e7-477f-863b-0e2f58315b54",
   "metadata": {},
   "outputs": [],
   "source": [
    "import plotly.graph_objects as go\n",
    "\n",
    "# Assuming reviews is a DataFrame containing data\n",
    "# Create a Plotly histogram figure\n",
    "fig = go.Figure(data=[go.Histogram(x=reviews[\"Age\"])])\n",
    "\n",
    "# Display the histogram\n",
    "fig.show()\n"
   ]
  },
  {
   "cell_type": "markdown",
   "id": "0a44e9d5-1a3b-408f-9d76-dab589435456",
   "metadata": {},
   "source": [
    "<h3>Add Bins</h3>"
   ]
  },
  {
   "cell_type": "code",
   "execution_count": null,
   "id": "e77a8885-5943-471e-adcb-a19aadc49fd3",
   "metadata": {},
   "outputs": [],
   "source": [
    "import plotly.graph_objects as go\n",
    "\n",
    "# Create a Plotly histogram figure with additional options\n",
    "fig = go.Figure(data=[go.Histogram(x=reviews[\"Age\"],\n",
    "                                   # Set number of bins\n",
    "                                   nbinsx=20,\n",
    "                                   )])\n",
    "\n",
    "# Update layout for better appearance\n",
    "fig.update_layout(title=\"Histogram of Age\",\n",
    "                  xaxis_title=\"Age\",\n",
    "                  yaxis_title=\"Frequency\",\n",
    "                  \n",
    "                 )\n",
    "\n",
    "# Display the histogram\n",
    "fig.show()\n"
   ]
  },
  {
   "cell_type": "markdown",
   "id": "2d7ecc17-8f85-4590-ae3e-35c49c47fd52",
   "metadata": {},
   "source": [
    "<h3>Change Theme</h3>"
   ]
  },
  {
   "cell_type": "code",
   "execution_count": null,
   "id": "6a740f1e-7a18-4fd9-816c-5d42f0ed4083",
   "metadata": {},
   "outputs": [],
   "source": [
    "import plotly.graph_objects as go\n",
    "\n",
    "# Assuming reviews is a DataFrame containing data\n",
    "\n",
    "# Create a Plotly histogram figure with additional options\n",
    "fig = go.Figure(data=[go.Histogram(x=reviews[\"Age\"],\n",
    "                                   # Set number of bins\n",
    "                                   nbinsx=20,\n",
    "                                   opacity=0.7,\n",
    "                                   # Set fill and line colors\n",
    "                                   marker=dict(color='#ffbf00',  # Fill color\n",
    "                                               line=dict(color='#f08080', width=3)))])\n",
    "\n",
    "# Update layout for better appearance\n",
    "fig.update_layout(title=\"Histogram of Age\",\n",
    "                  xaxis_title=\"Age\",\n",
    "                  yaxis_title=\"Frequency\",\n",
    "                  bargap=0.1,  # Set gap between bars\n",
    "                  plot_bgcolor='#f0f0f0',  # Set background color\n",
    "                  paper_bgcolor='#ffffff'  # Set paper color\n",
    "                 )\n",
    "\n",
    "# Display the histogram\n",
    "fig.show()\n"
   ]
  },
  {
   "cell_type": "markdown",
   "id": "0d8c43e7-8dcf-4cb9-9ca6-fc7f12756e9d",
   "metadata": {},
   "source": [
    "<h3>Change Size</h3>"
   ]
  },
  {
   "cell_type": "code",
   "execution_count": null,
   "id": "76384ab8-dd39-4db3-af95-82d5de3414bb",
   "metadata": {},
   "outputs": [],
   "source": [
    "import plotly.graph_objects as go\n",
    "\n",
    "# Assuming reviews is a DataFrame containing data\n",
    "\n",
    "# Create a Plotly histogram figure with additional options\n",
    "fig = go.Figure(data=[go.Histogram(x=reviews[\"Age\"],\n",
    "                                   # Set number of bins\n",
    "                                   nbinsx=20,\n",
    "                                   opacity=0.7,\n",
    "                                   # Set fill and line colors\n",
    "                                   marker=dict(color='#ffbf00',  # Fill color\n",
    "                                               line=dict(color='#f08080', width=3)))])\n",
    "\n",
    "# Update layout for better appearance\n",
    "fig.update_layout(title=\"Histogram of Age\",\n",
    "                  xaxis_title=\"Age\",\n",
    "                  yaxis_title=\"Frequency\",\n",
    "                  bargap=0.1,  # Set gap between bars\n",
    "                  plot_bgcolor='#f0f0f0',  # Set background color\n",
    "                  paper_bgcolor='#ffffff',  # Set paper color\n",
    "                  height=750  # Set graph height\n",
    "                 )\n",
    "\n",
    "# Display the histogram\n",
    "fig.show()\n"
   ]
  }
 ],
 "metadata": {
  "kernelspec": {
   "display_name": "Python 3 (ipykernel)",
   "language": "python",
   "name": "python3"
  },
  "language_info": {
   "codemirror_mode": {
    "name": "ipython",
    "version": 3
   },
   "file_extension": ".py",
   "mimetype": "text/x-python",
   "name": "python",
   "nbconvert_exporter": "python",
   "pygments_lexer": "ipython3",
   "version": "3.11.7"
  }
 },
 "nbformat": 4,
 "nbformat_minor": 5
}
