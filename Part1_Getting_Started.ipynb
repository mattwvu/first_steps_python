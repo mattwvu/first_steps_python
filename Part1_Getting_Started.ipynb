{
 "cells": [
  {
   "cell_type": "markdown",
   "id": "fd5ae4ed-a1cd-473b-8f0f-cef25ac8f798",
   "metadata": {},
   "source": [
    "<h1>First Steps with Python/h1>\n",
    "<h3>Overview</h3>\n",
    "<p>\n",
    "    <ul>\n",
    "        <li>Overview of Python, Anaconda, and Jupyter Notebooks</li>\n",
    "        <li>Data Values and interpretations</li>\n",
    "        <li>Variables, Functions, and Arguments</li>\n",
    "        <li>Comparisons, Conditional, and Loops</li>\n",
    "        <li>Libraries</li>\n",
    "    </ul>\n",
    "</p>"
   ]
  },
  {
   "cell_type": "markdown",
   "id": "63077f3a-0448-434a-bab2-509b0ddf5020",
   "metadata": {},
   "source": [
    "<h3>Resources</h3>\n",
    "<p>\n",
    "    <ul>\n",
    "        <li>O'Reilly Learning Platform: <a href = \"https://databases.lib.wvu.edu/connect/1540334373\" target =\"_blank\">https://databases.lib.wvu.edu/connect/1540334373</a></li>\n",
    "    </ul>\n",
    "</p>"
   ]
  },
  {
   "cell_type": "markdown",
   "id": "90b612b1-2a38-4c20-bf4a-85fedd202fa4",
   "metadata": {},
   "source": [
    "<h3>Basic Concepts _ What is Python and Programming Language Software</h3>\n",
    "<p>Python is a programming language software packages that allows you to give commands to your computer.</p>\n",
    "<ul><li><a href =\"https://www.python.org/\">https://www.python.org/</a></li></ul>"
   ]
  },
  {
   "cell_type": "markdown",
   "id": "38bdd5e8-c972-4b00-8070-09ad434038fb",
   "metadata": {},
   "source": [
    "<h3>Why use Python</h3>\n",
    "<p>\n",
    "    <ul>\n",
    "        <li>Rich Ecosystem of Libraries</li>\n",
    "        <li>Integration with Other Tools and Languages</li>\n",
    "        <li>Platform Independent and Non-proprietary</li>\n",
    "        <li>Reproducibility and Transparency</li>\n",
    "        <li>Integrates into Proprietary Software</li>\n",
    "        <li>Shareable</li>\n",
    "        <li>Add-on Libraries</li>\n",
    "   </ul>\n",
    "</p>"
   ]
  },
  {
   "cell_type": "markdown",
   "id": "93f67bfe-85d1-475a-9e8b-4e71590eff0a",
   "metadata": {},
   "source": [
    "<h3>Jupyter Notebooks</h3>\n",
    "<p><a href =\"https://jupyter.org/\" target=\"_blank\">https://jupyter.org/</a></p>\n",
    "<p>Jupyter Notebooks are an interactive web-based tool that allows you to create and share documents that contain live code, equations, visualizations, and narrative text.</p>"
   ]
  },
  {
   "cell_type": "markdown",
   "id": "59865394-14dd-44d5-81d3-a9f9a0ce90c6",
   "metadata": {},
   "source": [
    "<h3>Anaconda</h3>\n",
    "<p><a href =\"https://www.anaconda.com/\" target=\"_blank\">https://www.anaconda.com/</a></p>\n",
    "<p>Anaconda is a popular and powerful distribution of Python and R programming languages specifically tailored for data science, machine learning, and scientific computing.</p>"
   ]
  },
  {
   "cell_type": "markdown",
   "id": "81c9f1a5-c6ee-47df-bb3d-3bcdb8d06058",
   "metadata": {},
   "source": [
    "<h3>Google Colab</h3>\n",
    "<p><a href=\"https://colab.research.google.com/\" target=\"_blank\">https://colab.research.google.com/</a></p>\n",
    "<p>a free cloud-based platform provided by Google that allows you to write, execute, and share Python code in a collaborative environment. </p>\n"
   ]
  },
  {
   "cell_type": "markdown",
   "id": "c845940f-9a0d-4779-b7fa-63cf926933f7",
   "metadata": {},
   "source": [
    "<h2>Getting Started</h2>\n",
    "<p>\n",
    "    <ol>\n",
    "        <li>Open Anaconda Navigator</li>\n",
    "        <li>Open Jupyterlab</li>\n",
    "        <li>Using the directory on the right, select the folder you will be working in</li>\n",
    "        <li>Start a new notebook</li>\n",
    "        <li>Select the python kernel</li>\n",
    "        <li>Click on File > <strong>Save Notebook As</strong> and give the file a name</li>\n",
    "        <li>Click on File > <strong>Save Current Workspace As</strong> and save the workspace</li>\n",
    "    </ol>\n",
    "</p>"
   ]
  },
  {
   "cell_type": "markdown",
   "id": "cdb56272-ef0a-4915-9043-6a348db5d727",
   "metadata": {},
   "source": [
    "<h3>Inputting and Running Code</h3>\n",
    "<p>In Jupyter Notebooks you input your code into cells. \n",
    "    <ul>\n",
    "        <li>You can add new cells by clicking on the plus buttons in the cell or in the top menu.</li>\n",
    "        <li>You can change how the kernel is interpreting the cell. By default it is code.</li>\n",
    "        <li>You can run the cell by clicking on the play button or using the <strong>keyboard shortcut: CTRL + Enter (PC) / CMD + Return (MAC)</strong>.</li>\n",
    "    </ul>    \n",
    "</p>\n"
   ]
  },
  {
   "cell_type": "code",
   "execution_count": null,
   "id": "72cbd6b0-7b6d-452c-b51c-f39fa7e20043",
   "metadata": {},
   "outputs": [],
   "source": [
    "#lets try and input code and run a cell\n",
    "\n",
    "2+2"
   ]
  },
  {
   "cell_type": "markdown",
   "id": "e3bc05eb-10a2-4d97-ad58-3cfcf6d623d7",
   "metadata": {},
   "source": [
    "<h3>Commenting</h3>\n",
    "<p>Since use will be performing several operations in a single document and\n",
    "even in a particular code chunk, it becomes important to document what\n",
    "processes you were performing or make notes to use for yourself or\n",
    "others about your intentions.</p>\n",
    "<p>Entering a hastag (\\#) into your code will comment anything that comes after for one single line.</p>"
   ]
  },
  {
   "cell_type": "code",
   "execution_count": null,
   "id": "cd91a71b-5d4c-4e7b-af4c-9470cde274de",
   "metadata": {},
   "outputs": [],
   "source": [
    "# what is the mean of the variable\n",
    "\n",
    "import numpy as np # load numpy\n",
    "\n",
    "example = [1,50, 100, 1000]\n",
    "\n",
    "average = np.mean(example)\n",
    "\n",
    "# Get the mean\n",
    "\n",
    "print(\"The mean of this list is\", average)\n"
   ]
  },
  {
   "cell_type": "markdown",
   "id": "2c648dc2-13a0-4259-ae4b-a4124babf803",
   "metadata": {},
   "source": [
    "<h2>Data Values in Python</h2>\n",
    "<ul>\n",
    "    <li>String – string of characters with no numeric value – “hello world” “26501”</li>\n",
    "    <li>Integer – whole number</li> \n",
    "    <li>Float – number w/ decimal place</li>\n",
    "    <li>Boolean – t/f – True or False </li>\n",
    "    <li>None – nothing, nul, nil </li>\n",
    "</ul>"
   ]
  },
  {
   "cell_type": "code",
   "execution_count": null,
   "id": "0675836c-c28b-4266-9459-7e0ffcea436e",
   "metadata": {},
   "outputs": [],
   "source": [
    "#Type functions\n",
    "\n",
    "type(\"26501\") #string"
   ]
  },
  {
   "cell_type": "code",
   "execution_count": null,
   "id": "b4ead8c0-8a65-40c0-9926-539b4cc4eb98",
   "metadata": {},
   "outputs": [],
   "source": [
    "type(4) #integer"
   ]
  },
  {
   "cell_type": "code",
   "execution_count": null,
   "id": "a666e78d-4162-4017-bd6a-1eedfcd4fc1c",
   "metadata": {},
   "outputs": [],
   "source": [
    "type(4.5673) #float"
   ]
  },
  {
   "cell_type": "code",
   "execution_count": null,
   "id": "0e0ae5d1-92e0-44e0-857d-186e1e879708",
   "metadata": {},
   "outputs": [],
   "source": [
    "type(True) #boolean"
   ]
  },
  {
   "cell_type": "code",
   "execution_count": null,
   "id": "980dc070-c357-4e4f-a7a4-a58cba2e2319",
   "metadata": {},
   "outputs": [],
   "source": [
    "#Strings - anything entered in \"\" will be interpreted as a string\n",
    "\n",
    "hello = \"Hello World\"\n",
    "type(hello)"
   ]
  },
  {
   "cell_type": "markdown",
   "id": "0c33f01d-6457-4e4c-b606-b9238b76d5ff",
   "metadata": {},
   "source": [
    "<h2>Python Standard Library</h2>\n",
    "<p><a href =\"https://docs.python.org/3/library/index.html\">https://docs.python.org/3/library/index.html</a></p>"
   ]
  },
  {
   "cell_type": "code",
   "execution_count": null,
   "id": "a9a37354-71b5-4471-9e1e-c1baaea9d81d",
   "metadata": {},
   "outputs": [],
   "source": [
    "#Help function\n",
    "\n",
    "help(print)"
   ]
  },
  {
   "cell_type": "markdown",
   "id": "f8ecb136-2ff4-47e9-8066-a8055589bbec",
   "metadata": {},
   "source": [
    "<h3>Fundamental Concepts in Python</h3>\n",
    "<ul>\n",
    "    <li>Variables</li>\n",
    "    <li>Types</li>\n",
    "    <li>Functions</li>\n",
    "    <li>Libraries</li>\n",
    "    <li>Comparison</li>\n",
    "    <li>Conditionals</li>\n",
    "    <li>Looping</li>\n",
    "    <li>Lists</li>\n",
    "</ul>"
   ]
  },
  {
   "cell_type": "markdown",
   "id": "875e4cd0-74f0-40a8-952f-a37a845f20ee",
   "metadata": {},
   "source": [
    "<h2>Variables</h2>\n",
    "<p>Variables are containers for storing data values.</p>\n",
    "<ul>\n",
    "    <li>Syntax: named_container = value_assigned</li>\n",
    "    <li>x = 5</li>\n",
    "    </ul>"
   ]
  },
  {
   "cell_type": "code",
   "execution_count": null,
   "id": "b4467e38-6b92-423a-a33c-ab56c6a84439",
   "metadata": {},
   "outputs": [],
   "source": [
    "#Examples \n",
    "\n",
    "x = 5\n",
    "y = \"Hello World\"\n",
    "z= [1, 2, 3]"
   ]
  },
  {
   "cell_type": "markdown",
   "id": "284dd203-ab42-40a1-972c-4386b7792795",
   "metadata": {},
   "source": [
    "<h3>Explore Variables</h3>"
   ]
  },
  {
   "cell_type": "code",
   "execution_count": null,
   "id": "93149d4e-3501-450b-9ccd-63ce8b6bd3de",
   "metadata": {},
   "outputs": [],
   "source": [
    "#list created variables\n",
    "\n",
    "%whos"
   ]
  },
  {
   "cell_type": "code",
   "execution_count": null,
   "id": "4c5bdd00-8b5b-4f16-9403-b49224373c33",
   "metadata": {},
   "outputs": [],
   "source": [
    "# call the variables\n",
    "\n",
    "print(z)"
   ]
  },
  {
   "cell_type": "code",
   "execution_count": null,
   "id": "a0396ac9-5118-4e9b-8035-5271a9783b5a",
   "metadata": {},
   "outputs": [],
   "source": [
    "# data values for variables\n",
    "\n",
    "type(z)\n",
    "print(\"Type of values of z:\", type(z))"
   ]
  },
  {
   "cell_type": "code",
   "execution_count": null,
   "id": "c8b7e471-7d0b-46d0-9187-558b9fcb8e71",
   "metadata": {},
   "outputs": [],
   "source": [
    "# length of the variable\n",
    "\n",
    "len(z)"
   ]
  },
  {
   "cell_type": "markdown",
   "id": "d32d6874-6ae5-409c-8bb7-7f92f305d2ca",
   "metadata": {},
   "source": [
    "<h2>Functions</h2>\n",
    "<p>Functions are how you give commands using python code.</p>\n",
    "<p>It is highly suggested to use <strong>TAB</strong>, use the <strong>documentation</strong> for libraries, and use the <strong>help function</strong> to understand what functions and arguments are available to you.</p>"
   ]
  },
  {
   "cell_type": "markdown",
   "id": "c76d0cca-7bc2-4501-aabb-df19eba3f51f",
   "metadata": {},
   "source": [
    "<h3>Built-In Functions</h3>"
   ]
  },
  {
   "cell_type": "markdown",
   "id": "9cb2ac24-3847-4034-853b-65b0f9590a91",
   "metadata": {},
   "source": [
    "<p><a href = \"https://docs.python.org/3/library/functions.html\" target=\"_blank\">Standard Library: https://docs.python.org/3/library/functions.html</a></p>\n",
    "<p><a href = \"https://pandas.pydata.org/docs/reference/general_functions.html\" target=\"_blank\">Pandas: https://pandas.pydata.org/docs/reference/general_functions.html</a></p>\n",
    "<p>Built-in functions are pre-defined functions that are available as part of the core language. They are build into the standard library as well as any loaded libraries.</p>"
   ]
  },
  {
   "cell_type": "markdown",
   "id": "2d02393b-8a16-4db7-b970-f7ddb9f216df",
   "metadata": {},
   "source": [
    "<h3>Create a Function</h3>"
   ]
  },
  {
   "cell_type": "code",
   "execution_count": null,
   "id": "e4be3e2d-bf91-49a6-9f6d-9b432c349043",
   "metadata": {},
   "outputs": [],
   "source": [
    "#You can create functions using def\n",
    "\n",
    "def my_function():\n",
    "  print(\"Hello from a function\")\n",
    "\n",
    "my_function()"
   ]
  },
  {
   "cell_type": "markdown",
   "id": "1f05e9d4-2d89-4796-be35-28985f04c7e8",
   "metadata": {},
   "source": [
    "<h3>Exercise: Create a Function</h3>"
   ]
  },
  {
   "cell_type": "code",
   "execution_count": null,
   "id": "f8140c1f-0878-4284-85c3-9c6cd40b6274",
   "metadata": {},
   "outputs": [],
   "source": [
    "# Step 1: Create Variables\n",
    "\n",
    "name = input(\"What is your name: \")\n",
    "age = input(\"What is your age: \")\n",
    "\n",
    "\n",
    "#Step 2: Define the function\n",
    "\n",
    "def demo(name, age):\n",
    "    print(name, age)\n",
    "   \n",
    "#Step 3: Call the function\n",
    "\n",
    "demo(name, age)"
   ]
  },
  {
   "cell_type": "markdown",
   "id": "38cfe1c4-37fb-47af-8b62-1f8bd76a8d16",
   "metadata": {},
   "source": [
    "<h2>Indentation</h2>\n",
    "<p>In Python, indents are used to define the structure of the code. Unlike some other programming languages that use curly braces {} or keywords to indicate blocks of code, Python uses indentation. This makes the code more readable and easier to understand.</p>"
   ]
  },
  {
   "cell_type": "code",
   "execution_count": null,
   "id": "2fb41684-0cab-4fe7-be8e-0dc37ba14cb5",
   "metadata": {},
   "outputs": [],
   "source": [
    "def check_number(number):  # Starts the function; the indented lines below are part of this function\n",
    "    if number > 0:\n",
    "        print(\"The number is positive.\")\n",
    "    elif number < 0:\n",
    "        print(\"The number is negative.\")\n",
    "    else:\n",
    "        print(\"The number is zero.\")  # This is where the function's code ends\n",
    "\n",
    "print(\"Hello World\")  # This starts a new section of code\n"
   ]
  },
  {
   "cell_type": "code",
   "execution_count": null,
   "id": "2dde631d-238e-4bcc-b03e-e48a481d0f81",
   "metadata": {},
   "outputs": [],
   "source": [
    "def check_number(number):\n",
    "print(\"The number is positive.\")  # This line will cause an IndentationError"
   ]
  },
  {
   "cell_type": "markdown",
   "id": "98711810-7429-4d8f-bc82-600db3381ab6",
   "metadata": {},
   "source": [
    "<h2>Arguments</h2>\n",
    "<p>Arguments are the values that are passed to a function when it is called. In Python, functions can accept zero or more arguments. Arguments are separted by <strong>commas ( , )</strong>.</p>"
   ]
  },
  {
   "cell_type": "code",
   "execution_count": null,
   "id": "ef77a764-9c3c-4397-b821-988194e6bb5d",
   "metadata": {},
   "outputs": [],
   "source": [
    "#example of a using arguments with the round function\n",
    "\n",
    "round(3.141592653589793)\n",
    "round(3.141592653589793, 4)"
   ]
  },
  {
   "cell_type": "markdown",
   "id": "3bf835d5-6313-41b6-a20d-f4c64ce1f2d4",
   "metadata": {},
   "source": [
    "<h2>Comparisons and Boolean Operators</h2>\n",
    "<p>Use comparison operators to determine if objects in python are identical to each other.</p>\n",
    "<ul style =\"font-size:1.15em;\">\n",
    "    <li>Equal ( == )</li>\n",
    "    <li>Not equal ( != )</li>\n",
    "    <li>Greater than ( > )</li>\n",
    "    <li>Less than ( < )</li>\n",
    "    <li>Greater than or equal ( >= )</li>\n",
    "    <li>Less than or equal ( <= )</li>\n",
    "    </ul>"
   ]
  },
  {
   "cell_type": "code",
   "execution_count": null,
   "id": "334402a5-700c-47c6-bbc8-9614945faf99",
   "metadata": {},
   "outputs": [],
   "source": [
    "#Comparison\n",
    "\n",
    "fruit1= \"apple\"\n",
    "fruit2= \"orange\"\n",
    "\n",
    "#Are items/variables == to eachother\n",
    "fruit1 == fruit2"
   ]
  },
  {
   "cell_type": "code",
   "execution_count": null,
   "id": "32dad1f0-df37-4a55-bbbc-7c6c76cbef19",
   "metadata": {},
   "outputs": [],
   "source": [
    "#Comparison\n",
    "\n",
    "fruit1= \"apple\"\n",
    "fruit2= \"apple\"\n",
    "\n",
    "#Are items/variables == to eachother\n",
    "fruit1 == fruit2"
   ]
  },
  {
   "cell_type": "code",
   "execution_count": null,
   "id": "c4986020-d04b-4438-bd37-f5061d5908d6",
   "metadata": {},
   "outputs": [],
   "source": [
    "#Comparison\n",
    "\n",
    "fruit1= \"apple\"\n",
    "fruit2= \"Apple\"\n",
    "\n",
    "#Are items/variables == to eachother\n",
    "fruit1 == fruit2"
   ]
  },
  {
   "cell_type": "code",
   "execution_count": null,
   "id": "a3d76a1e-e35d-4b38-8cf5-bddb04a43def",
   "metadata": {},
   "outputs": [],
   "source": [
    "#Comparison\n",
    "\n",
    "number1 = 1\n",
    "number2 = 2\n",
    "\n",
    "#Are items/variables == to eachother\n",
    "number1 != number2"
   ]
  },
  {
   "cell_type": "code",
   "execution_count": null,
   "id": "a37862b8-e555-4fcb-b2cc-ff6d9f73badf",
   "metadata": {},
   "outputs": [],
   "source": [
    "##boolean operators - > Can be combined variables/inputs with boolean operators AND, OR, NOT\n",
    "\n",
    "6 > 3 and 1 < 2"
   ]
  },
  {
   "cell_type": "code",
   "execution_count": null,
   "id": "43f363fa-cc76-403d-8897-bdc15c1715c8",
   "metadata": {},
   "outputs": [],
   "source": [
    "#Can check existence of an object in a string\n",
    "\n",
    "\"n\" in \"mississippi\""
   ]
  },
  {
   "cell_type": "markdown",
   "id": "63cfce3a-488b-470d-9c79-1994b3920a82",
   "metadata": {},
   "source": [
    "<h2>Conditionals</h2>\n",
    "<p>Python operators that looks to see if an object meets stated conditions and will then run operations based of those determinations.</p>\n",
    "<ul>\n",
    "    <li>If = If the conditions made in the statement are met then perform the operation.</li>\n",
    "    <li>Else = If the conditions made in the statement are NOT met then perform another operations.</li>\n",
    "    <li>Elif = If the condition made in the statement are NOT met by either the IF statement or the ELSE statement perform this operation.</li>\n",
    "    </ul>"
   ]
  },
  {
   "cell_type": "code",
   "execution_count": null,
   "id": "a2502329-f96e-4536-9e46-f3cecb7b7454",
   "metadata": {},
   "outputs": [],
   "source": [
    "#Conditionals\n",
    "\n",
    "hungry = True\n",
    "\n",
    "if hungry:\n",
    "    print(\"Go eat something\")\n",
    "    \n",
    "print(\"Continue with your day\")"
   ]
  },
  {
   "cell_type": "code",
   "execution_count": null,
   "id": "ba53d90c-c8ed-42e4-a149-a7e48edde17c",
   "metadata": {},
   "outputs": [],
   "source": [
    "#Conditionals\n",
    "\n",
    "hungry = False\n",
    "\n",
    "if hungry:\n",
    "    print(\"Go eat something\")\n",
    "else:\n",
    "    print(\"Eat this anyway\")"
   ]
  },
  {
   "cell_type": "code",
   "execution_count": null,
   "id": "b9181827-e5b7-4317-8782-4ed330077f15",
   "metadata": {},
   "outputs": [],
   "source": [
    "#Multiple Criteria elif\n",
    "#elif water_temp == 0: --> not bad\n",
    "\n",
    "water_temp = 0\n",
    "\n",
    "if water_temp < 0:\n",
    "    print(\"brrrrrr\")\n",
    "elif water_temp > 100:\n",
    "    print(\"tccchhhhh\")\n",
    "else:\n",
    "    print(\"I can drink this\")"
   ]
  },
  {
   "cell_type": "markdown",
   "id": "3e800022-a7af-48bf-9532-ba5b8e68f6b4",
   "metadata": {},
   "source": [
    "<h2>Loops</h2>\n",
    "<p>The requested operation will repeat until it is told to stop.</p>"
   ]
  },
  {
   "cell_type": "markdown",
   "id": "b9b43dcc-4a16-45ad-9bcf-3076536e2922",
   "metadata": {},
   "source": [
    "<h3>For Loops</h3>\n",
    "<p>The 'for' loop is typically used when you know the number of iterations in advance or when you want to iterate over a sequence or an iterable object.</p>\n",
    "<p><em>syntax: <strong>for</strong> variable <strong>in</strong> iterable</em></p>\n",
    "<p>\n",
    "    <ul>\n",
    "        <li>variable: This is a placeholder variable that will take on the value of each element in the iterable object during each iteration of the loop.</li>\n",
    "        <li>\r\n",
    "iterable: This is the object over which the loop iterates. It can be a sequence (like a list, tuple, or string) or any other iterable object.</li>\n",
    "    </ul>\n",
    "</p>"
   ]
  },
  {
   "cell_type": "code",
   "execution_count": null,
   "id": "4d797783-9c50-4a4d-9f6a-ac9328dade21",
   "metadata": {},
   "outputs": [],
   "source": [
    "#for loop\n",
    "\n",
    "fruits = [\"apple\", \"banana\", \"cherry\"]\n",
    "for fruit in fruits:\n",
    "    print(fruit)"
   ]
  },
  {
   "cell_type": "markdown",
   "id": "2f0a3ceb-baa8-4ec3-8e18-78ac84d31e3e",
   "metadata": {},
   "source": [
    "<h3>While Loops</h3>\n",
    "<p>The while loop is typically used when you don't know the number of iterations in advance or when you want to loop as long as a certain condition is true.</p>"
   ]
  },
  {
   "cell_type": "code",
   "execution_count": null,
   "id": "d92add49-83b2-43fb-8888-0cac836512ea",
   "metadata": {},
   "outputs": [],
   "source": [
    "while True:\n",
    "    print(\"It's still true\")"
   ]
  },
  {
   "cell_type": "code",
   "execution_count": null,
   "id": "1019c66c-20df-4efb-9e04-dcfbe6134155",
   "metadata": {},
   "outputs": [],
   "source": [
    "x = 0\n",
    "while x <= 20:\n",
    "    print(x)\n",
    "    x = x + 1\n",
    "    \n",
    "print(\"Stop looping\")"
   ]
  },
  {
   "cell_type": "code",
   "execution_count": null,
   "id": "6c065325-a302-4585-87b2-556746ec3dd3",
   "metadata": {},
   "outputs": [],
   "source": [
    "x = 0\n",
    "while x <= 20:\n",
    "    if x == 8:\n",
    "        break\n",
    "    print(x)\n",
    "    x = x + 1"
   ]
  },
  {
   "cell_type": "markdown",
   "id": "aaefccd3-a54b-419c-ad71-b4e5df0cd816",
   "metadata": {},
   "source": [
    "<h2>Libraries</h2>\n",
    "<p>Libraries in Python are collections of pre-written code that provide ready-made functions and tools for common tasks. They save you time and effort by providing solutions to problems that programmers commonly encounter.</p>\n"
   ]
  },
  {
   "cell_type": "code",
   "execution_count": null,
   "id": "2d3f8b23-e661-4e63-accf-27393df93fcf",
   "metadata": {},
   "outputs": [],
   "source": [
    "import datetime\n",
    "\n",
    "# Get the current date and time\n",
    "current_date = datetime.datetime.now()\n",
    "\n",
    "# Print the current date and time\n",
    "print(\"Today's date and time:\", current_date)\n"
   ]
  },
  {
   "cell_type": "code",
   "execution_count": null,
   "id": "7776d5b4-3a9f-4311-9763-9b3f7f1967bc",
   "metadata": {},
   "outputs": [],
   "source": [
    "#view installed libraries\n",
    "\n",
    "# !pip list\n",
    "!conda list"
   ]
  },
  {
   "cell_type": "code",
   "execution_count": null,
   "id": "81977e3e-fca0-4ec9-adff-507b0a772072",
   "metadata": {},
   "outputs": [],
   "source": [
    "#search for library\n",
    "\n",
    "!conda search beautifulsoup"
   ]
  },
  {
   "cell_type": "code",
   "execution_count": null,
   "id": "abe75971-2400-43d4-a858-093059ded278",
   "metadata": {},
   "outputs": [],
   "source": [
    "#update pacakge\n",
    "\n",
    "!conda update beautifulsoup4"
   ]
  },
  {
   "cell_type": "markdown",
   "id": "b5f3d3d9-20e9-4de4-93b8-c2ace9f3fdd4",
   "metadata": {},
   "source": [
    "<h3>Call A Library</h3>\n",
    "<p>To use the functions of a library you must call it during your current kernel.</p>"
   ]
  },
  {
   "cell_type": "markdown",
   "id": "c1041d27-6f0f-4f83-b0a4-a219571760c9",
   "metadata": {},
   "source": [
    "<h3>Import</h3>\n",
    "<p>Using import for a library will bring all functions for the library into your workspace</p>"
   ]
  },
  {
   "cell_type": "code",
   "execution_count": null,
   "id": "823fa92a-4f9d-4ce4-8fc0-ed523369cfb0",
   "metadata": {},
   "outputs": [],
   "source": [
    "import math\n",
    "\n",
    "# Now you can use any tool from the math toolbox\n",
    "print(math.sqrt(16))  # Output: 4.0\n",
    "print(math.pi)        # Output: 3.141592653589793\n"
   ]
  },
  {
   "cell_type": "markdown",
   "id": "60a102c3-40cc-4957-b40d-2ead2736a443",
   "metadata": {},
   "source": [
    "<h3>From</h3>\n",
    "<p>Using from will just bring one particular function from the library into your workspace.</p>"
   ]
  },
  {
   "cell_type": "code",
   "execution_count": null,
   "id": "95c25692-d33e-4857-aeaf-a10f218ab50d",
   "metadata": {},
   "outputs": [],
   "source": [
    "from math import sqrt\n",
    "\n",
    "# Now you can use just the sqrt tool directly\n",
    "print(sqrt(16))  # Output: 4.0\n"
   ]
  },
  {
   "cell_type": "markdown",
   "id": "781bae44-4815-4f25-a493-e07e9d27e464",
   "metadata": {},
   "source": [
    "<h3>Installing a Library</h3>"
   ]
  },
  {
   "cell_type": "markdown",
   "id": "753af617-9bde-4de4-bb00-46521de5e4e2",
   "metadata": {},
   "source": [
    "<p>You install Python Libraries using the terminal</p>\n",
    "<p>\n",
    "    <ul>\n",
    "        <li>Go to File > New > Terminal</li>\n",
    "        <li>Copy the following <strong>conda install -c conda-forge geopandas</strong> and past into the terminal.</li>\n",
    "    </ul>\n",
    "</p>\n",
    "\n"
   ]
  },
  {
   "cell_type": "markdown",
   "id": "aa97024d-88cf-4241-b933-2d045568e471",
   "metadata": {},
   "source": [
    "<h3>Important Libraries for Data Science</h3>\n",
    "<ul>\n",
    "    <li><a href=\"https://pandas.pydata.org/\">Pandas</a></li>\n",
    "    <li><a href=\"https://matplotlib.org/\">Matplotlib</a></li>\n",
    "    <li><a href=\"https://numpy.org/\">NumPy</a></li>\n",
    "    <li><a href=\"https://www.scipy.org/\">SciPy</a></li>\n",
    "    <li><a href=\"https://plotly.com/python/\">Plotly</a></li>\n",
    "    </ul>"
   ]
  },
  {
   "cell_type": "markdown",
   "id": "576c930b-e941-4224-8314-7f07a74b1a72",
   "metadata": {},
   "source": [
    "<h3>Magic Commands</h3>\n",
    "<p>Magic commands in Python, specifically in environments like Jupyter Notebook, are special commands that help you perform various tasks more easily.</p>"
   ]
  },
  {
   "cell_type": "code",
   "execution_count": null,
   "id": "6f6bd811-4980-42f1-bdd7-2e9aa74c7f96",
   "metadata": {},
   "outputs": [],
   "source": [
    "%time"
   ]
  }
 ],
 "metadata": {
  "kernelspec": {
   "display_name": "Python 3 (ipykernel)",
   "language": "python",
   "name": "python3"
  },
  "language_info": {
   "codemirror_mode": {
    "name": "ipython",
    "version": 3
   },
   "file_extension": ".py",
   "mimetype": "text/x-python",
   "name": "python",
   "nbconvert_exporter": "python",
   "pygments_lexer": "ipython3",
   "version": "3.11.7"
  }
 },
 "nbformat": 4,
 "nbformat_minor": 5
}
