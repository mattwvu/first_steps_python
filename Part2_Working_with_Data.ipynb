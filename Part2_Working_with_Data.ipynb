{
 "cells": [
  {
   "cell_type": "markdown",
   "id": "1d7e594c-ba39-4b1d-aeed-a2abacfdff80",
   "metadata": {},
   "source": [
    "<h1>Working with Data with Python</h1>\n",
    "<h3>Overview</h3>\n",
    "<ul>\n",
    "    <li>Entering your data [lists, dictionaries, series dataframes]</li>\n",
    "    <li>Reading datasets and cleaning data</li>\n",
    "    <li>Analyzing and visualizing data</li>\n",
    "       </ul>\n"
   ]
  },
  {
   "cell_type": "markdown",
   "id": "5ac4aafa-d208-4928-8535-165743cc2731",
   "metadata": {},
   "source": [
    "<h3>Resources</h3>\n",
    "<p>\n",
    "    <ul>\n",
    "        <li>O'Reilly Learning Platform: <a href = \"https://databases.lib.wvu.edu/connect/1540334373\" target =\"_blank\">https://databases.lib.wvu.edu/connect/1540334373</a></li>\n",
    "    </ul>\n",
    "</p>"
   ]
  },
  {
   "cell_type": "markdown",
   "id": "eea5ee7f-b453-4e6f-9ec9-f525b565a6fb",
   "metadata": {},
   "source": [
    "<h2>Sequence Types (Lists, Tupples, Ranges)</h2>\n",
    "<p>ordered sets that we can enter and retrieve information from.</p>\n",
    "<ul><li><a href = \"https://docs.python.org/3/library/stdtypes.html#sequence-types-list-tuple-range\">Python Documentation - Sequence Types</a></li></ul>"
   ]
  },
  {
   "cell_type": "markdown",
   "id": "aea2dc94-89e6-4789-99ec-5e702859861a",
   "metadata": {},
   "source": [
    "<h3>Lists</h3>\n",
    "<p>Lists are used to store multiple items in a single variable. Lists are one of 4 built-in data types in Python used to store collections of data, the other 3 are Tuple, Set, and Dictionary, all with different qualities and usage.</p>\n",
    "<p>named_varible = [\"item1\", \"item2\", \"item3\"]</p>"
   ]
  },
  {
   "cell_type": "code",
   "execution_count": null,
   "id": "904283db-7486-4f79-b8eb-8b5434fd0f72",
   "metadata": {},
   "outputs": [],
   "source": [
    "#List integer\n",
    "\n",
    "my_var = [1, 2, 3, 4]\n",
    "print(my_var)\n",
    "type(my_var)"
   ]
  },
  {
   "cell_type": "code",
   "execution_count": null,
   "id": "a3aaa961-b1eb-470d-be8b-0ec26c15d97c",
   "metadata": {},
   "outputs": [],
   "source": [
    "#List string\n",
    "\n",
    "cities = [\"Morgantown\", \"Charleston\", \"Reedsville\", \"Huntington\"] \n",
    "\n",
    "print(cities)\n",
    "type(cities)"
   ]
  },
  {
   "cell_type": "code",
   "execution_count": null,
   "id": "94823588-54be-4698-8401-3f2a9e7ebbba",
   "metadata": {},
   "outputs": [],
   "source": [
    "#Indexing\n",
    "#method returns the position at the first occurrence of the specified value.\n",
    "#syntax []\n",
    "\n",
    "cities [0] #numbered order starts at 0\n",
    "#force an error messages with print(cities[4])\n",
    "\n",
    "#cities [0:2] #range"
   ]
  },
  {
   "cell_type": "code",
   "execution_count": null,
   "id": "5e1919ec-2205-4ca2-8fd3-1a1c7b137b63",
   "metadata": {},
   "outputs": [],
   "source": [
    "#Adding and removing items to a list .append and .remove\n",
    "\n",
    "cities.append(\"Logan's Run\")\n",
    "cities\n",
    "\n",
    "#remove\n",
    "#cities.remove(\"Logan's Run\")\n",
    "#cities"
   ]
  },
  {
   "cell_type": "code",
   "execution_count": null,
   "id": "0297f3e5-4184-4856-ae38-faa7db74f112",
   "metadata": {},
   "outputs": [],
   "source": [
    "#What is \"in\" your list\n",
    "\n",
    "len(cities)\n",
    "\n",
    "#\"Morgantown\" in cities"
   ]
  },
  {
   "cell_type": "code",
   "execution_count": null,
   "id": "09b3c595-2303-440d-a97c-e135d48581ab",
   "metadata": {},
   "outputs": [],
   "source": [
    "# Define a list of numbers\n",
    "numbers = [1, 2, 3, 4, 5]\n",
    "\n",
    "# Loop over each number in the list\n",
    "for number in numbers:\n",
    "    # Print each number\n",
    "    print(number + 1)"
   ]
  },
  {
   "cell_type": "markdown",
   "id": "d17618dc-8168-4310-8641-2171d899f461",
   "metadata": {},
   "source": [
    "<h2>Functions in Standard Python that are similiar to lists</h2>\n",
    "<ul>\n",
    "    <li>Tupples -> A tuple is a collection which is ordered and unchangeable. Tuples are written with round brackets().</li>\n",
    "    <ul><li>( _ )</li>\n",
    "    </ul>\n",
    "    <li>Sets -> A set is a collection which is unordered, unchangeable, and unindexed. Sets are written with curly brackets.</li>\n",
    "    <ul><li>{ _ }</li>\n",
    "    </ul>\n",
    "    <li>Dictionaries -> A dictionary is a collection which is ordered*, changeable and does not allow duplicates. Dictionaries are written with curly brackets, and have keys and values.</li>\n",
    "    <ul><li>{key1: value1, key2: value2, key3:value3 }</li>\n",
    "    </ul>\n",
    "    </ul>\n",
    "    "
   ]
  },
  {
   "cell_type": "code",
   "execution_count": null,
   "id": "08e697fc-9687-4ca6-a11c-8d3f49980a6a",
   "metadata": {},
   "outputs": [],
   "source": [
    "#dictionaires\n",
    "#one-domensional key-value list\n",
    "\n",
    "country_roads = {\"Morgantown\": 30847, \"Charlestown\": 45879, \"Reedsville\": 603, \"Huntington\": 44934}\n",
    "print(country_roads)\n",
    "#print(country_roads[\"Reedsville\"])"
   ]
  },
  {
   "cell_type": "code",
   "execution_count": null,
   "id": "0437b00a-5fe1-4daf-a8e0-23df37a4f0dc",
   "metadata": {},
   "outputs": [],
   "source": [
    "#add to dictionary\n",
    "\n",
    "country_roads[\"Westover\"]  = 4220\n",
    "country_roads"
   ]
  },
  {
   "cell_type": "markdown",
   "id": "f0edc17b-5c0e-4869-8d6f-b00712a7a233",
   "metadata": {},
   "source": [
    "<h2>Data science libraries in Python</h2>\n",
    "<p>Listed below are the major libraries that provide built-in functions, methods, and constants that are important for doing data science analysis. Each library has a website with documentation (remember the Python Standard Library) that is great for reference and tutorials.</p>\n",
    "<h3>Storage, Manipulations, Calculations</h3>\n",
    "<ul>\n",
    "    <li><a href =\"https://numpy.org/\">Numpy</a></li>\n",
    "    <li><a href =\"https://pandas.pydata.org/\">Pandas</a></li>\n",
    "    <li><a href=\"https://www.scipy.org/scipylib/index.html\">Scipy</a></li>\n",
    "    <li><a href=\"https://www.statsmodels.org/stable/index.html\">StatsModels</a></li>\n",
    "    </ul>\n",
    " <h3>Vizualization</h3>\n",
    " <ul>\n",
    "    <li><a href=\"https://matplotlib.org/\">Matplotlib</a></li>\n",
    "    <li><a href =\"https://bokeh.org/\">Bokeh</a></li>\n",
    "    </ul>\n",
    "<h3>Machine Learning</h3>\n",
    "  <ul>\n",
    "    <li><a href =\"https://scikit-learn.org/stable/\">SciKit</a></li>\n",
    "    <li><a href=\"https://www.tensorflow.org/\">TensorFlow</a></li>\n",
    "    <li><a href = \"https://keras.io/\">Keras</a></li>\n",
    "    </ul>"
   ]
  },
  {
   "cell_type": "markdown",
   "id": "cfa34863-2324-4e4b-85ba-021cac7a74cc",
   "metadata": {},
   "source": [
    "<h2>Pandas</h2>"
   ]
  },
  {
   "cell_type": "code",
   "execution_count": null,
   "id": "f2de7f15-3536-4a67-8234-4a7ad83a8edf",
   "metadata": {},
   "outputs": [],
   "source": [
    "#calling a library\n",
    "\n",
    "import pandas as pd\n",
    "\n",
    "#Alias -> \n",
    "#you can call libraries as aliases using \"as\". This will allow you to simplify your code and the amount of typing that you\n",
    "#need to do."
   ]
  },
  {
   "cell_type": "markdown",
   "id": "f760dfee-ac45-4f15-8bd0-573d1eeefc7e",
   "metadata": {},
   "source": [
    "<h3>Series in Pandas</h3>\n",
    "<p>Like a dictionary in the standard library, a series allows you to store key-value pairs in python.</p>\n",
    "<ul><li><a href =\"https://pandas.pydata.org/docs/reference/api/pandas.Series.html\">Pandas Documentation - Series</a></li></ul>"
   ]
  },
  {
   "cell_type": "code",
   "execution_count": null,
   "id": "edc66ac2-4147-4e7c-83c1-2aea58d00418",
   "metadata": {},
   "outputs": [],
   "source": [
    "#series - A Pandas Series is like a column in a table. It is a one-dimensional array holding data of any type.\n",
    "\n",
    "wvu_towns = pd.Series(country_roads)\n",
    "\n",
    "wvu_towns"
   ]
  },
  {
   "cell_type": "code",
   "execution_count": null,
   "id": "e24bd38d-dbb1-4ff4-80e5-2979f274cfae",
   "metadata": {},
   "outputs": [],
   "source": [
    "series_example = pd.Series([1, 2, 3, 4], index=['a', 'b', 'c', 'd'])\n",
    "series_example"
   ]
  },
  {
   "cell_type": "markdown",
   "id": "de01b81e-100f-4673-804a-498d7ff1ffba",
   "metadata": {},
   "source": [
    "<h2>Data Frames</h2>\n",
    "<p>Dataframes are 2 dimensional data structures containing key-value pairs."
   ]
  },
  {
   "cell_type": "code",
   "execution_count": null,
   "id": "c79fa418-9643-4716-9069-acb59dc8110f",
   "metadata": {},
   "outputs": [],
   "source": [
    "import pandas as pd\n",
    "\n",
    "# Creating individual Series for each column\n",
    "year_series = pd.Series([1977, 1980, 1983], name=\"Year\")\n",
    "title_series = pd.Series([\"Star Wars\", \"Empire Strikes Back\", \"Return of the Jedi\"], name=\"Title\")\n",
    "length_series = pd.Series([121, 124, 144], name=\"Length\")\n",
    "gross_series = pd.Series([787, 534, 572], name=\"Gross\")\n",
    "\n",
    "\n",
    "# Displaying the DataFrame\n",
    "starwars_df\n"
   ]
  },
  {
   "cell_type": "code",
   "execution_count": null,
   "id": "9d5357de-da00-488c-af9b-704a3af1ebc0",
   "metadata": {},
   "outputs": [],
   "source": [
    "# Combining the Series into a DataFrame\n",
    "\n",
    "starwars_df = pd.DataFrame({\n",
    "    \"Year\": year_series,\n",
    "    \"Title\": title_series,\n",
    "    \"Length\": length_series,\n",
    "    \"Gross\": gross_series\n",
    "})"
   ]
  },
  {
   "cell_type": "code",
   "execution_count": null,
   "id": "e80d95b3-c0d5-4d96-afa9-310ec14c43d2",
   "metadata": {},
   "outputs": [],
   "source": [
    "#subsetting\n",
    "\n",
    "starwars_df['Title']"
   ]
  },
  {
   "cell_type": "code",
   "execution_count": null,
   "id": "d4ac4104-c213-4629-8c4d-9421e26f017e",
   "metadata": {},
   "outputs": [],
   "source": [
    "# data values\n",
    "\n",
    "starwars_df.dtypes"
   ]
  },
  {
   "cell_type": "code",
   "execution_count": null,
   "id": "78fb4278-f172-4633-8d51-c241c3c8c3bb",
   "metadata": {},
   "outputs": [],
   "source": [
    "# amending data values\n",
    "\n",
    "starwars_df['Year'] = starwars_df['Year'].astype(str)\n",
    "\n",
    "starwars_df.dtypes"
   ]
  },
  {
   "cell_type": "code",
   "execution_count": null,
   "id": "56905fbe-357e-451e-a208-21a377cdc449",
   "metadata": {},
   "outputs": [],
   "source": [
    "# retrieve descriptive statistics\n",
    "\n",
    "# starwars_reviews.mean()\n",
    "\n",
    "starwars_df[\"Length\"].mean()\n"
   ]
  },
  {
   "cell_type": "markdown",
   "id": "a6345168-f7ed-437e-bcf1-855b7c1d468f",
   "metadata": {},
   "source": [
    "<h2>Reading Data</h2>"
   ]
  },
  {
   "cell_type": "markdown",
   "id": "32ab02f0-76bf-4b63-ada8-225be2e4a344",
   "metadata": {},
   "source": [
    "<h3> Read Options</h3>\n",
    "<ul><li>read_csv -- Load delimited data from a file, URL, or file-like object; use comma as default delimiter</li>\n",
    "<li>read_fwf -- Read data in fixed-width column format (i.e., no delimiters)</li>\n",
    "<li>read_excel -- Read tabular data from an Excel XLS or XLSX file</li>\n",
    "<li>read_html -- Read all tables found in the given HTML document</li>\n",
    "<li>read_json -- Read data from a JSON (JavaScript Object Notation) string representation, file, URL, or file-like object</li>\n",
    "<li>read_sas -- Read a SAS dataset stored in one of the SAS system’s custom storage formats</li>\n",
    "<li>read_spss -- Read a data file created by SPSS</li>\n",
    "<li>read_stata -- Read a dataset from Stata file format</li>\n",
    "<li>read_xml -- Read a table of data from an XML file</li></ul>"
   ]
  },
  {
   "cell_type": "code",
   "execution_count": null,
   "id": "7a4e8b66-93f2-4f5f-af36-514baaa8bbdf",
   "metadata": {},
   "outputs": [],
   "source": [
    "# read spss file\n",
    "\n",
    "import pandas as pd\n",
    "\n",
    "demographics = pd.read_spss(\"demographics.sav\")\n",
    "demographics\n",
    "\n",
    "# may need to install pyreadstat - pip install pyreadstat"
   ]
  },
  {
   "cell_type": "code",
   "execution_count": null,
   "id": "925d0e7e-8365-425a-b186-82aeadec693a",
   "metadata": {},
   "outputs": [],
   "source": [
    "# read a csv file\n",
    "\n",
    "import pandas as pd\n",
    "\n",
    "reviews = pd.read_csv(\"customer_reviews.csv\")\n",
    "%whos"
   ]
  },
  {
   "cell_type": "markdown",
   "id": "c3b3892f-3df0-440f-a84b-9812bece5bef",
   "metadata": {},
   "source": [
    "<h3>Exploring the Dataframe</h3>"
   ]
  },
  {
   "cell_type": "code",
   "execution_count": null,
   "id": "0515b87b-4197-47f2-aed7-9e3469f6a8f6",
   "metadata": {},
   "outputs": [],
   "source": [
    "#Viewing dataframes .head() . tail()\n",
    "\n",
    "reviews.head() #default is 5\n",
    "\n",
    "#reviews.tail(10) #change the number displayed"
   ]
  },
  {
   "cell_type": "code",
   "execution_count": null,
   "id": "dbcc610e-ca92-4c6e-b508-2a875bfd5212",
   "metadata": {},
   "outputs": [],
   "source": [
    "#viewing data values in dataframe\n",
    "\n",
    "reviews.dtypes"
   ]
  },
  {
   "cell_type": "code",
   "execution_count": null,
   "id": "7801b5b7-20b8-4d04-b6d1-7f370531e2e8",
   "metadata": {},
   "outputs": [],
   "source": [
    "#look as basic information about the dataframe with info()\n",
    "\n",
    "reviews.info()"
   ]
  },
  {
   "cell_type": "code",
   "execution_count": null,
   "id": "0f23da92-d53e-47ac-95e5-6648d4e04d29",
   "metadata": {},
   "outputs": [],
   "source": [
    "#viewing observations and variables numbers\n",
    "\n",
    "reviews.shape"
   ]
  },
  {
   "cell_type": "code",
   "execution_count": null,
   "id": "4b5006c0-167e-4c72-b1bf-8c4a75c02865",
   "metadata": {},
   "outputs": [],
   "source": [
    "#viewing the names of variables\n",
    "\n",
    "reviews.columns"
   ]
  },
  {
   "cell_type": "code",
   "execution_count": null,
   "id": "7e65b974-6740-4a92-9fb9-0ac5c899adea",
   "metadata": {},
   "outputs": [],
   "source": [
    "# get basic descriptive statistics\n",
    "\n",
    "reviews.describe()\n",
    "\n",
    "#reviews.mean()\n",
    "#reviews.median()\n",
    "#reviews.mode()"
   ]
  },
  {
   "cell_type": "markdown",
   "id": "0fed13b8-c2fb-40a5-8bfa-1e84490ee2f1",
   "metadata": {},
   "source": [
    "\n",
    "\n",
    "<table style = \"width:60%; margin-left:0; border: 3px solid #f0f0f0;\">\n",
    "  <tr style = \"text-align: left;\">\n",
    "    <th>Aggregation</th>\n",
    "    <th>Returns</th>\n",
    "  </tr>\n",
    "  <tr>\n",
    "    <td>count</td>\n",
    "    <td>Total number of items</td>\n",
    "  </tr>    \n",
    "  <tr>\n",
    "    <td>first, last</td>\n",
    "    <td>First and last item</td>\n",
    "  </tr>   \t\n",
    "  <tr>\n",
    "    <td>mean, median</td>\n",
    "    <td>Mean and median</td>\n",
    "  </tr>  \n",
    "  <tr>\n",
    "    <td>min, max</td>\n",
    "    <td>Minimum and maximum</td>\n",
    "  </tr>  \n",
    "  <tr>\n",
    "    <td>std, var</td>\n",
    "    <td>Standard deviation and variance</td>\n",
    "  </tr>  \n",
    "  <tr>\n",
    "    <td>mad</td>\n",
    "    <td>Mean absolute deviation</td>\n",
    "  </tr>  \n",
    "  <tr>\n",
    "    <td>prod</td>\n",
    "    <td>Product of all items</td>\n",
    "  </tr>  \n",
    "  <tr>\n",
    "    <td>sum</td>\n",
    "    <td>Sum of all items</td>\n",
    "  </tr> \n",
    "</table>"
   ]
  },
  {
   "cell_type": "code",
   "execution_count": null,
   "id": "be8b6fdb-d5b3-497b-9173-484c1f97dad3",
   "metadata": {},
   "outputs": [],
   "source": [
    "# viewing the values counts of observations in a variable\n",
    "\n",
    "reviews[\"Class_Name\"].value_counts()"
   ]
  },
  {
   "cell_type": "markdown",
   "id": "b50d2e40-86a1-4dc3-9536-18852d1140f5",
   "metadata": {},
   "source": [
    "<h2>Cleaning Data</h2>\n",
    "\n",
    "<h3>Why would you need to clean data</h3>\n",
    "<ul>\n",
    "    <li>Data in columns and rows are not ordered in the correct way</li>\n",
    "    <li>Creating values or ignoring missing data</li>\n",
    "    <li>Units are not correct or are wrong in some way</li>\n",
    "    <li>Order of magnitude is off</li>\n",
    "    <li>Outliers and skewing of the data</li>\n",
    "    </ul>"
   ]
  },
  {
   "cell_type": "markdown",
   "id": "050d281a-227f-4560-8fd1-5feade3e1267",
   "metadata": {},
   "source": [
    "<h3>Missing Values</h3>"
   ]
  },
  {
   "cell_type": "code",
   "execution_count": null,
   "id": "3c87b92f-49e8-46ea-854a-83b255206cf8",
   "metadata": {},
   "outputs": [],
   "source": [
    "#check for missing data\n",
    "\n",
    "missing_values = reviews.isna()\n",
    "missing_values\n",
    "\n"
   ]
  },
  {
   "cell_type": "code",
   "execution_count": null,
   "id": "e15a0f13-7452-463d-8dc4-04f60e506662",
   "metadata": {},
   "outputs": [],
   "source": [
    "# number of missing data\n",
    "\n",
    "number_missing = reviews.isna().sum()\n",
    "number_missing"
   ]
  },
  {
   "cell_type": "code",
   "execution_count": null,
   "id": "135a8c46-55dc-4aae-a586-b27a46b293da",
   "metadata": {},
   "outputs": [],
   "source": [
    "#Get a report\n",
    "\n",
    "# Check for missing values\n",
    "print(\"Missing values (True indicates missing):\")\n",
    "print(reviews.isna())\n",
    "\n",
    "# Count missing values in each column\n",
    "print(\"\\nCount of missing values per column:\")\n",
    "print(reviews.isna().sum())\n",
    "\n",
    "# Get a summary of the DataFrame\n",
    "print(\"\\nDataFrame info:\")\n",
    "reviews.info()\n",
    "\n",
    "# Check if there are any missing values in the entire DataFrame\n",
    "print(\"\\nAre there any missing values in the entire DataFrame?\")\n",
    "print(reviews.isna().any().any())\n",
    "\n",
    "# Check if there are any missing values in each column\n",
    "print(\"\\nAre there any missing values in each column?\")\n",
    "print(reviews.isna().any())\n",
    "\n",
    "# Check for non-missing values\n",
    "print(\"\\nNon-missing values (True indicates non-missing):\")\n",
    "print(reviews.notna())"
   ]
  },
  {
   "cell_type": "code",
   "execution_count": null,
   "id": "bfdf7bcf-b385-4738-bd9b-a71c427bf692",
   "metadata": {},
   "outputs": [],
   "source": [
    "# remove missing values\n",
    "\n",
    "reviews.shape\n",
    "\n",
    "#remove all observations with na\n",
    "\n",
    "reviews_na = reviews.dropna()\n",
    "reviews_na.shape\n",
    "\n",
    "# remove "
   ]
  },
  {
   "cell_type": "code",
   "execution_count": null,
   "id": "2cfffc9a-13d6-4dbb-b2fe-5ca3a48a73bc",
   "metadata": {},
   "outputs": [],
   "source": [
    "# replace missing values\n",
    "\n",
    "#replace na values\n",
    "\n",
    "reviews[\"Title\"] = reviews[\"Title\"].fillna(\"None Given\")\n",
    "reviews[\"Title\"]"
   ]
  },
  {
   "cell_type": "code",
   "execution_count": null,
   "id": "72b72e60-e791-4a32-b530-ee7fdc0a112c",
   "metadata": {},
   "outputs": [],
   "source": [
    "#get value counts for a variable\n",
    "\n",
    "reviews[\"Title\"].value_counts()"
   ]
  },
  {
   "cell_type": "markdown",
   "id": "0c7d12a5-6cc8-4ef7-b7ec-de7a3d860013",
   "metadata": {},
   "source": [
    "<h3>Change Data Values</h3>"
   ]
  },
  {
   "cell_type": "code",
   "execution_count": null,
   "id": "c4a965bd-89a4-450b-8e79-3213776b018b",
   "metadata": {},
   "outputs": [],
   "source": [
    "#view the dataframe\n",
    "\n",
    "reviews"
   ]
  },
  {
   "cell_type": "code",
   "execution_count": null,
   "id": "3cf376e6-8b1a-481d-a99d-3d880e95ea3a",
   "metadata": {},
   "outputs": [],
   "source": [
    "# view types of data values in the dataframe\n",
    "\n",
    "reviews.dtypes"
   ]
  },
  {
   "cell_type": "code",
   "execution_count": null,
   "id": "7c1afe58-c19c-4149-b18f-816d22c3befa",
   "metadata": {},
   "outputs": [],
   "source": [
    "# change the values \n",
    "\n",
    "# Clothing ID should be a string\n",
    "reviews['Clothing_ID'] = reviews['Clothing_ID'].astype(\"str\")\n",
    "\n",
    "# Recommended_IND, Division_Name, Department_Name, and Class_Name should be a category\n",
    "reviews[['Recommended_IND', 'Division_Name', 'Department_Name', 'Class_Name']] = reviews[['Recommended_IND', 'Division_Name', 'Department_Name', 'Class_Name']].astype(\"category\")\n",
    "\n",
    "# view the values\n",
    "\n",
    "reviews.dtypes\n"
   ]
  },
  {
   "cell_type": "code",
   "execution_count": null,
   "id": "0f2d17b7-6075-4f3d-8bed-85c1e1df43cc",
   "metadata": {},
   "outputs": [],
   "source": [
    "reviews[\"Division_Name\"].value_counts()"
   ]
  },
  {
   "cell_type": "markdown",
   "id": "098da4bf-2c37-4f18-8f6b-f6b7c9278aed",
   "metadata": {},
   "source": [
    "<h3>Datetime Values</h3>"
   ]
  },
  {
   "cell_type": "code",
   "execution_count": null,
   "id": "ef5edd33-0785-45ee-8ac6-b4d3d83873cf",
   "metadata": {},
   "outputs": [],
   "source": [
    "import pandas as pd\n",
    "\n",
    "# load scotus approval dataframe\n",
    "\n",
    "scotus = pd.read_csv(\"scotus_approval.csv\")\n",
    "scotus\n"
   ]
  },
  {
   "cell_type": "code",
   "execution_count": null,
   "id": "cf7a85c5-5d8d-4331-a0e2-d96740ad1e6d",
   "metadata": {},
   "outputs": [],
   "source": [
    "scotus[\"date\"] = pd.to_datetime(scotus[\"end_date\"])\n",
    "scotus.dtypes"
   ]
  },
  {
   "cell_type": "markdown",
   "id": "ece78d2a-c80c-47e2-81af-8fc5422f6088",
   "metadata": {},
   "source": [
    "<h3>Boolean Operators</h3>\n",
    "<p>Use comparison operators to determine to filter observations in a variable.</p>\n",
    "<ul style>\n",
    "    <li>Equal ( == )</li>\n",
    "    <li>Not equal ( != )</li>\n",
    "    <li>Greater than ( > )</li>\n",
    "    <li>Less than ( < )</li>\n",
    "    <li>Greater than or equal ( >= )</li>\n",
    "    <li>Less than or equal ( <= )</li>\n",
    "    </ul>"
   ]
  },
  {
   "cell_type": "markdown",
   "id": "c3ad7b81-591a-4103-a00f-993b1ad5936f",
   "metadata": {},
   "source": [
    "<h3>Filter Variables</h3>\n",
    "<p>Filter out one or more observations from a variable using boolean operators to set criterias.</p>"
   ]
  },
  {
   "cell_type": "code",
   "execution_count": null,
   "id": "8f4d2cfa-6aef-41db-9a3d-54816186f78f",
   "metadata": {},
   "outputs": [],
   "source": [
    "# get mean of ratings\n",
    "\n",
    "reviews[\"Rating\"].mean()"
   ]
  },
  {
   "cell_type": "code",
   "execution_count": null,
   "id": "57f3e364-799e-4346-a26b-0e6c0b9105fa",
   "metadata": {},
   "outputs": [],
   "source": [
    "#filter observations using boolean operators\n",
    "\n",
    "#find the mean of rating that people who bought from the General Department \n",
    "\n",
    "reviews_filter = reviews[reviews[\"Division_Name\"]== \"General\"]\n",
    "reviews_filter[\"Division_Name\"].value_counts()"
   ]
  },
  {
   "cell_type": "code",
   "execution_count": null,
   "id": "4613589a-9897-4447-890d-379a604d769c",
   "metadata": {},
   "outputs": [],
   "source": [
    "reviews_filter[\"Rating\"].mean()"
   ]
  },
  {
   "cell_type": "code",
   "execution_count": null,
   "id": "611251d0-ab6f-4f73-a4ef-ac0b67900cb3",
   "metadata": {},
   "outputs": [],
   "source": [
    "reviews[\"Class_Name\"].value_counts()"
   ]
  },
  {
   "cell_type": "code",
   "execution_count": null,
   "id": "303c8630-918e-47ff-9f41-b3d14a26dceb",
   "metadata": {},
   "outputs": [],
   "source": [
    "#filter observations in mulitple variables\n",
    "\n",
    "reviews_filter_2 = reviews[(reviews[\"Division_Name\"] == \"General\") & (reviews[\"Class_Name\"] != \"Sweaters\")]\n",
    "reviews_filter_2[\"Rating\"].mean()"
   ]
  },
  {
   "cell_type": "markdown",
   "id": "cfcf1cd7-8d8d-4d9a-aa83-9fe45aca61b4",
   "metadata": {},
   "source": [
    "<h3>Select Variables</h3>\n",
    "<p>Select or remove variables from the dataframe</p>"
   ]
  },
  {
   "cell_type": "code",
   "execution_count": null,
   "id": "687a4c2b-04e1-4678-9bb2-cf3a3f4b6d88",
   "metadata": {},
   "outputs": [],
   "source": [
    "scotus.columns"
   ]
  },
  {
   "cell_type": "code",
   "execution_count": null,
   "id": "c8df618b-2713-40ab-a670-01032003db1d",
   "metadata": {},
   "outputs": [],
   "source": [
    "# select columns from the dataframe\n",
    "\n",
    "scotus = scotus[['poll_id',  'pollster', 'yes', 'no', 'alternate_answers', 'date']]\n",
    "scotus"
   ]
  },
  {
   "cell_type": "code",
   "execution_count": null,
   "id": "0080e42f-9d69-4496-91da-15ead997e5f0",
   "metadata": {},
   "outputs": [],
   "source": [
    "scotus.columns"
   ]
  },
  {
   "cell_type": "code",
   "execution_count": null,
   "id": "ef2446f1-60c8-4704-99a5-955ec72937b5",
   "metadata": {},
   "outputs": [],
   "source": [
    "# removed columns from the dataframe\n",
    "\n",
    "scotus = scotus.drop(columns = ['alternate_answers'])\n",
    "scotus"
   ]
  },
  {
   "cell_type": "markdown",
   "id": "a9e9c696-3cd3-493f-9c40-f8a6171a34d8",
   "metadata": {},
   "source": [
    "<h3>Sample</h3>\n",
    "<p>Filter random selections from the dataframe</p>"
   ]
  },
  {
   "cell_type": "code",
   "execution_count": null,
   "id": "e74337dc-e0a2-4a21-9ef2-f726beae74eb",
   "metadata": {},
   "outputs": [],
   "source": [
    "# number\n",
    "\n",
    "reviews_sample = reviews.sample(n=500)\n",
    "reviews_sample.describe()"
   ]
  },
  {
   "cell_type": "code",
   "execution_count": null,
   "id": "a04a5843-644e-4e96-8dbf-2b6930cf90c9",
   "metadata": {},
   "outputs": [],
   "source": [
    "# fraction\n",
    "\n",
    "reviews_sample = reviews.sample(frac=0.25, replace = True, random_state=1)\n",
    "reviews_sample.describe()"
   ]
  },
  {
   "cell_type": "markdown",
   "id": "447fcde2-ef80-4672-ae8e-cc4881bac343",
   "metadata": {},
   "source": [
    "<h3>Assign</h3>\n",
    "Create new columns or modify existing ones in a dataframe. "
   ]
  },
  {
   "cell_type": "code",
   "execution_count": null,
   "id": "7ff0c59e-f936-44c7-9346-d13f0bdca50f",
   "metadata": {},
   "outputs": [],
   "source": [
    "demographics"
   ]
  },
  {
   "cell_type": "code",
   "execution_count": null,
   "id": "3b5f8a8e-6814-4ae1-8b5c-b03528b0bd40",
   "metadata": {},
   "outputs": [],
   "source": [
    "# lets create a new column that divides the income variable by 1000\n",
    "\n",
    "demographics = pd.read_spss(\"demographics.sav\")\n",
    "\n",
    "demographics = demographics.assign(income = (demographics[\"income\"]/1000))\n",
    "demographics\n"
   ]
  },
  {
   "cell_type": "markdown",
   "id": "e1d58c9b-2e85-4938-87a8-8261cda3972e",
   "metadata": {},
   "source": [
    "<h3>Recode Variables</h3>\n",
    "<p>Transform the values of a variable into new values based on specific criteria</p>"
   ]
  },
  {
   "cell_type": "code",
   "execution_count": null,
   "id": "87e9ddf2-f9a3-4f72-b376-c37b435986d7",
   "metadata": {},
   "outputs": [],
   "source": [
    "reviews[\"Recommended_IND\"].value_counts()"
   ]
  },
  {
   "cell_type": "code",
   "execution_count": null,
   "id": "f2f86db6-99ba-4737-a5db-35d07d683faf",
   "metadata": {},
   "outputs": [],
   "source": [
    "#overwrite the variable\n",
    "\n",
    "reviews_recode = reviews[\"Recommended_IND\"].replace([1, 0], [\"Yes\", \"No\"])\n",
    "reviews_recode"
   ]
  },
  {
   "cell_type": "code",
   "execution_count": null,
   "id": "92b64124-cc08-48a0-b102-9b5d2187b442",
   "metadata": {},
   "outputs": [],
   "source": [
    "# create a new variable\n",
    "\n",
    "reviews = reviews.assign(Recommended_recode = reviews[\"Recommended_IND\"].map({0: \"No\", 1: \"Yes\"}))\n",
    "reviews\n",
    "\n",
    "# assign creates and new variable and # map sets the new values"
   ]
  },
  {
   "cell_type": "code",
   "execution_count": null,
   "id": "0b8294b8-85d2-4981-a982-fc2989cb5137",
   "metadata": {},
   "outputs": [],
   "source": [
    "reviews[\"Recommended_recode\"].value_counts()"
   ]
  },
  {
   "cell_type": "markdown",
   "id": "1cd49760-d566-44aa-b75f-5b3e7bb8718e",
   "metadata": {},
   "source": [
    "<h3>Rename Variables</h3>\n",
    "<p>Rename the column</p>"
   ]
  },
  {
   "cell_type": "code",
   "execution_count": null,
   "id": "53a025e4-b555-4fe6-9b4b-3cd573fcdd55",
   "metadata": {},
   "outputs": [],
   "source": [
    "reviews = reviews.rename(columns={\"Recommended_IND\": \"Recommended_num\", \"Recommended_recode\":\"Recommended_label\"})\n",
    "reviews"
   ]
  },
  {
   "cell_type": "markdown",
   "id": "a1bec3f2-5081-4fe9-89fd-687c33bd3b76",
   "metadata": {},
   "source": [
    "<h3>Relocate Variables</h3>\n",
    "<p>Move the column location in the dataframe</p>"
   ]
  },
  {
   "cell_type": "code",
   "execution_count": null,
   "id": "772f2d59-cb6e-46ab-94de-fc5746c1c884",
   "metadata": {},
   "outputs": [],
   "source": [
    "reviews.columns"
   ]
  },
  {
   "cell_type": "code",
   "execution_count": null,
   "id": "aac0c654-ffdd-4687-a7cd-ef81db8f10d0",
   "metadata": {},
   "outputs": [],
   "source": [
    "new_order = ['Clothing_ID', 'Age', 'Title', \n",
    "             'Review_Text', 'Rating', 'Recommended_num', 'Recommended_label',\n",
    "             'Positive_Feedback_Count', 'Division_Name', \n",
    "             'Department_Name', 'Class_Name']\n",
    "\n",
    "reviews = reviews[new_order]\n",
    "reviews"
   ]
  },
  {
   "cell_type": "markdown",
   "id": "f720c104-6d7f-4c3b-899b-77b75c01535d",
   "metadata": {},
   "source": [
    "<h3>Sort Variables</h3>\n",
    "<p>Rearrange the observations in a column</p>"
   ]
  },
  {
   "cell_type": "code",
   "execution_count": null,
   "id": "5c977993-da72-4f82-931f-56a4b0ebc1bd",
   "metadata": {},
   "outputs": [],
   "source": [
    "reviews.sort_values(by=\"Rating\", ascending=False)"
   ]
  },
  {
   "cell_type": "markdown",
   "id": "dfb66362-a194-45a9-9b1b-f787c4fc2d1b",
   "metadata": {},
   "source": [
    "<h3>Bin Observations</h3>\n",
    "<p>Group observations into 'bins' or categories based on their values. </p>"
   ]
  },
  {
   "cell_type": "code",
   "execution_count": null,
   "id": "d378ced8-7708-4fda-8b85-058d313824d2",
   "metadata": {},
   "outputs": [],
   "source": [
    "#bin values\n",
    "\n",
    "reviews = reviews.assign(Age_Category = lambda x: pd.cut(x['Age'], bins = [18, 35, 65, float('inf') ], labels=['Young', 'Middle-aged', 'Old']))\n",
    "reviews[\"Age_Category\"].value_counts()\n",
    "\n",
    "# We use the assign method to add a new column \"Age_Category\" to the DataFrame.\n",
    "# The lambda function passed to assign calculates the age category based on the \"Age\" column using pd.cut.\n",
    "# The pd.cut function bins the ages into categories defined by the specified bins and assigns corresponding labels."
   ]
  },
  {
   "cell_type": "markdown",
   "id": "2f90f527-761c-4b57-bd1f-abcaabfa5c33",
   "metadata": {},
   "source": [
    "<h3>Pivot Table</h3>\n",
    "<p>Allows you to summarize and analyze the data by aggregating values across different dimensions, such as rows and columns,</p>"
   ]
  },
  {
   "cell_type": "code",
   "execution_count": null,
   "id": "718435b5-151c-4294-9316-930955a3b6e6",
   "metadata": {},
   "outputs": [],
   "source": [
    "reviews.dtypes"
   ]
  },
  {
   "cell_type": "code",
   "execution_count": null,
   "id": "1badf238-414b-487f-a145-1ca1e07be4f2",
   "metadata": {},
   "outputs": [],
   "source": [
    "reviews_pivot = reviews.pivot_table(\n",
    "    values = \"Rating\",\n",
    "    index = \"Recommended_label\",\n",
    "    columns=\"Class_Name\",\n",
    "    aggfunc = \"mean\",\n",
    "    fill_value = 0\n",
    ")\n",
    "\n",
    "reviews_pivot\n"
   ]
  },
  {
   "cell_type": "markdown",
   "id": "ffa7721f-df59-493c-9fbc-3b7e002a7af9",
   "metadata": {},
   "source": [
    "<h3>Groupby</h3>\n",
    "<p>Groups your observations in one or more varaiables.</p>"
   ]
  },
  {
   "cell_type": "code",
   "execution_count": null,
   "id": "fcdac6e8-f317-4a33-9382-a1bf4291415f",
   "metadata": {},
   "outputs": [],
   "source": [
    "#Groupby\n",
    "\n",
    "class_rating = reviews[[\"Rating\", \"Class_Name\"]].groupby(\"Class_Name\", observed=True).mean()\n",
    "class_rating\n",
    "\n",
    "\n",
    "#class_rating = reviews[[\"Rating\", \"Class_Name\"]].groupby(\"Class_Name\", observed=True).describe()\n",
    "#class_rating\n"
   ]
  },
  {
   "cell_type": "markdown",
   "id": "afe209ee-d1de-4050-b71f-a19acae352d6",
   "metadata": {},
   "source": [
    "<h3>Aggregate</h3>\n",
    "<p>Combine multiple data values into a single summary statistic. For example, finding the sum, mean, median, minimum, maximum, or standard deviation of a group </p>"
   ]
  },
  {
   "cell_type": "code",
   "execution_count": null,
   "id": "b9a7e696-2db6-435c-b842-decee4bcc0a1",
   "metadata": {},
   "outputs": [],
   "source": [
    "result = reviews.groupby('Recommended_label', observed=True)[['Rating', 'Positive_Feedback_Count']].agg(['min', 'mean', 'std', 'max'])\n",
    "result"
   ]
  },
  {
   "cell_type": "markdown",
   "id": "c0c8ddbd-8f07-4703-96d5-bcd15b95f42f",
   "metadata": {},
   "source": [
    "<h3>Dummy Variables</h3>\n",
    "<p>Turns categories into numbers so we can use them in analyses.</p>"
   ]
  },
  {
   "cell_type": "code",
   "execution_count": null,
   "id": "73a47c22-13da-459f-a403-4785889a264d",
   "metadata": {},
   "outputs": [],
   "source": [
    "reviews_dummies = pd.get_dummies(reviews[\"Division_Name\"], prefix = \"Division\")\n",
    "\n",
    "reviews_dummies"
   ]
  },
  {
   "cell_type": "code",
   "execution_count": null,
   "id": "e8522815-24be-4f44-86a9-317f67bc26ed",
   "metadata": {},
   "outputs": [],
   "source": [
    "# Convert to 1 and 0\n",
    "\n",
    "reviews_dummies = reviews_dummies.astype(int)\n",
    "reviews_dummies.mean()"
   ]
  },
  {
   "cell_type": "markdown",
   "id": "3091c29d-f721-40ed-8a06-07370de1dc71",
   "metadata": {},
   "source": [
    "<h3>Concat Dataframes</h3>\n",
    "<p>Append dataframes with matching observations.</p>"
   ]
  },
  {
   "cell_type": "code",
   "execution_count": null,
   "id": "efd9a97b-6bef-4f80-bf53-7d32b8734d50",
   "metadata": {},
   "outputs": [],
   "source": [
    "reviews_combined = pd.concat([reviews, reviews_dummies], axis=1)\n",
    "reviews_combined"
   ]
  },
  {
   "cell_type": "markdown",
   "id": "07733f14-7b9f-4611-96f2-1690bfe06978",
   "metadata": {},
   "source": [
    "<h3>Model Building with Dummies</h3>\n",
    "<p>\n",
    "    <ul>\n",
    "        <li>Use categorical data in machine learning and statistical models.</li>\n",
    "        <li>Avoid implying ordinal relationships in categorical data.</li>\n",
    "        <li>Capture categorical information accurately.</li>\n",
    "        <li>Enhance flexibility in model building and analysis.</li>\n",
    "    </ul>\n",
    "</p>"
   ]
  },
  {
   "cell_type": "code",
   "execution_count": null,
   "id": "cead5653-0bed-47fd-80aa-78f94085f42e",
   "metadata": {},
   "outputs": [],
   "source": [
    "reviews_combined.columns"
   ]
  },
  {
   "cell_type": "code",
   "execution_count": null,
   "id": "9702cc34-8467-4bc9-ad63-e0428de5941f",
   "metadata": {},
   "outputs": [],
   "source": [
    "from sklearn.linear_model import LinearRegression\n",
    "\n",
    "# Define the features (dummy variables) and target (Sales)\n",
    "X = reviews_combined[['Division_General', 'Division_General Petite', 'Division_Initmates']]\n",
    "y = reviews_combined[\"Rating\"]\n",
    "\n",
    "# Create and fit the model\n",
    "model = LinearRegression()\n",
    "model.fit(X, y)\n",
    "\n",
    "# Print the coefficients\n",
    "print(\"\\nCoefficients of the regression model:\")\n",
    "print(model.coef_)\n",
    "print(\"Intercept:\", model.intercept_)"
   ]
  },
  {
   "cell_type": "markdown",
   "id": "f560fb49-7ad4-4df8-84a0-4bd83958a3a7",
   "metadata": {},
   "source": [
    "<h3>Export Dataframes</h3>"
   ]
  },
  {
   "cell_type": "code",
   "execution_count": null,
   "id": "78dd7fd4-aecd-470a-9179-03f0c5311813",
   "metadata": {},
   "outputs": [],
   "source": [
    "#Write\n",
    "\n",
    "reviews.to_csv(\"cleaned_reviews.csv\")\n",
    "reviews_pivot.to_csv(\"pivot_reviews.csv\")\n",
    "class_rating.to_csv(\"class_ratings.csv\")\n",
    "scotus.to_csv(\"scotus.csv\")"
   ]
  }
 ],
 "metadata": {
  "kernelspec": {
   "display_name": "Python 3 (ipykernel)",
   "language": "python",
   "name": "python3"
  },
  "language_info": {
   "codemirror_mode": {
    "name": "ipython",
    "version": 3
   },
   "file_extension": ".py",
   "mimetype": "text/x-python",
   "name": "python",
   "nbconvert_exporter": "python",
   "pygments_lexer": "ipython3",
   "version": "3.11.7"
  }
 },
 "nbformat": 4,
 "nbformat_minor": 5
}
